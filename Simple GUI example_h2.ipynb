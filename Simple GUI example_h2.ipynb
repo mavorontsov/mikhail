{
 "cells": [
  {
   "cell_type": "code",
   "execution_count": null,
   "id": "06c5cc73",
   "metadata": {},
   "outputs": [
    {
     "ename": "",
     "evalue": "",
     "output_type": "error",
     "traceback": [
      "\u001b[1;31mThe Kernel crashed while executing code in the current cell or a previous cell. \n",
      "\u001b[1;31mPlease review the code in the cell(s) to identify a possible cause of the failure. \n",
      "\u001b[1;31mClick <a href='https://aka.ms/vscodeJupyterKernelCrash'>here</a> for more info. \n",
      "\u001b[1;31mView Jupyter <a href='command:jupyter.viewOutput'>log</a> for further details."
     ]
    }
   ],
   "source": [
    "import tkinter as tk\n",
    "\n",
    "# Initialize the main window\n",
    "window = tk.Tk()\n",
    "window.title(\"Buttons with Aligned Radio Buttons\")\n",
    "window.geometry(\"500x300\")\n",
    "\n",
    "# Create Buttons\n",
    "button1 = tk.Button(window, text=\"Button 1\", width=20)\n",
    "button2 = tk.Button(window, text=\"Button 2\", width=20)\n",
    "\n",
    "# Place Buttons\n",
    "button1.grid(row=0, column=0, padx=50, pady=20)\n",
    "button2.grid(row=0, column=1, padx=50, pady=20)\n",
    "\n",
    "# Variables for Radio Buttons\n",
    "radio_var1 = tk.StringVar(value=\"Option1\")\n",
    "radio_var2 = tk.StringVar(value=\"Option1\")\n",
    "\n",
    "# Create and Place Radio Buttons for Button 1\n",
    "radio1_b1 = tk.Radiobutton(window, variable=radio_var1, value=\"Option1\")\n",
    "radio2_b1 = tk.Radiobutton(window, variable=radio_var1, value=\"Option2\")\n",
    "radio3_b1 = tk.Radiobutton(window, variable=radio_var1, value=\"Option3\")\n",
    "\n",
    "radio1_b1.grid(row=1, column=0, sticky=\"w\", padx=30)\n",
    "radio2_b1.grid(row=1, column=0)\n",
    "radio3_b1.grid(row=1, column=0, sticky=\"e\", padx=30)\n",
    "\n",
    "# Create and Place Labels for Radio Buttons 1\n",
    "label1_b1 = tk.Label(window, text=\"Option 1\")\n",
    "label2_b1 = tk.Label(window, text=\"Option 2\")\n",
    "label3_b1 = tk.Label(window, text=\"Option 3\")\n",
    "\n",
    "label1_b1.grid(row=2, column=0, sticky=\"w\", padx=30)\n",
    "label2_b1.grid(row=2, column=0)\n",
    "label3_b1.grid(row=2, column=0, sticky=\"e\", padx=30)\n",
    "\n",
    "# Create and Place Radio Buttons for Button 2\n",
    "radio1_b2 = tk.Radiobutton(window, variable=radio_var2, value=\"Option1\")\n",
    "radio2_b2 = tk.Radiobutton(window, variable=radio_var2, value=\"Option2\")\n",
    "radio3_b2 = tk.Radiobutton(window, variable=radio_var2, value=\"Option3\")\n",
    "\n",
    "radio1_b2.grid(row=1, column=1, sticky=\"w\", padx=30)\n",
    "radio2_b2.grid(row=1, column=1)\n",
    "radio3_b2.grid(row=1, column=1, sticky=\"e\", padx=30)\n",
    "\n",
    "# Create and Place Labels for Radio Buttons 2\n",
    "label1_b2 = tk.Label(window, text=\"Option 1\")\n",
    "label2_b2 = tk.Label(window, text=\"Option 2\")\n",
    "label3_b2 = tk.Label(window, text=\"Option 3\")\n",
    "\n",
    "label1_b2.grid(row=2, column=1, sticky=\"w\", padx=30)\n",
    "label2_b2.grid(row=2, column=1)\n",
    "label3_b2.grid(row=2, column=1, sticky=\"e\", padx=30)\n",
    "\n",
    "# Run the main loop\n",
    "window.mainloop()\n"
   ]
  }
 ],
 "metadata": {
  "kernelspec": {
   "display_name": "cn2",
   "language": "python",
   "name": "python3"
  },
  "language_info": {
   "codemirror_mode": {
    "name": "ipython",
    "version": 3
   },
   "file_extension": ".py",
   "mimetype": "text/x-python",
   "name": "python",
   "nbconvert_exporter": "python",
   "pygments_lexer": "ipython3",
   "version": "3.9.21"
  }
 },
 "nbformat": 4,
 "nbformat_minor": 5
}
