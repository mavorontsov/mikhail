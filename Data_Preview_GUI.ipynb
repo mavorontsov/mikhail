{
 "cells": [],
 "metadata": {
  "kernelspec": {
   "display_name": "cn2",
   "language": "python",
   "name": "python3"
  },
  "language_info": {
   "name": "python",
   "version": "3.9.21"
  }
 },
 "nbformat": 4,
 "nbformat_minor": 5
}
